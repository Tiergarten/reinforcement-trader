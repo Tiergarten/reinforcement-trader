{
 "cells": [
  {
   "cell_type": "code",
   "execution_count": 1,
   "metadata": {},
   "outputs": [],
   "source": [
    "import pandas as pd\n",
    "import numpy as np"
   ]
  },
  {
   "cell_type": "code",
   "execution_count": 2,
   "metadata": {},
   "outputs": [],
   "source": [
    "import torch\n",
    "import torch.nn as nn"
   ]
  },
  {
   "cell_type": "code",
   "execution_count": 3,
   "metadata": {},
   "outputs": [],
   "source": [
    "from scipy import stats"
   ]
  },
  {
   "cell_type": "code",
   "execution_count": 4,
   "metadata": {},
   "outputs": [],
   "source": [
    "import seaborn as sns"
   ]
  },
  {
   "cell_type": "code",
   "execution_count": 5,
   "metadata": {},
   "outputs": [],
   "source": [
    "import logging\n",
    "logging.basicConfig(level=logging.INFO)"
   ]
  },
  {
   "cell_type": "code",
   "execution_count": 6,
   "metadata": {},
   "outputs": [
    {
     "data": {
      "text/plain": [
       "'cuda:0'"
      ]
     },
     "metadata": {},
     "output_type": "display_data"
    }
   ],
   "source": [
    "if torch.cuda.is_available():  \n",
    "    dev = \"cuda:0\" \n",
    "else:  \n",
    "    dev = \"cpu\"\n",
    "    \n",
    "display(dev)"
   ]
  },
  {
   "cell_type": "code",
   "execution_count": 7,
   "metadata": {},
   "outputs": [],
   "source": [
    "# !wget http://api.bitcoincharts.com/v1/csv/coinbaseGBP.csv.gz -O /tmp/coinbaseGBP.csv.gz\n",
    "# !gzip -d /tmp/coinbaseGBP.csv.gz"
   ]
  },
  {
   "cell_type": "markdown",
   "metadata": {},
   "source": [
    "-----"
   ]
  },
  {
   "cell_type": "code",
   "execution_count": 8,
   "metadata": {},
   "outputs": [],
   "source": [
    "NUM_RETURNS = M = 100\n",
    "TICK_SAMPLE_N = 2000\n",
    "ROLLING_ZSCORE_WINDOW = 30"
   ]
  },
  {
   "cell_type": "code",
   "execution_count": 9,
   "metadata": {},
   "outputs": [],
   "source": [
    "# https://stackoverflow.com/a/47165379\n",
    "def rolling_zscore(x, window):\n",
    "    r = x.rolling(window=window)\n",
    "    m = r.mean().shift(1)\n",
    "    s = r.std(ddof=0).shift(1)\n",
    "    z = (x-m)/s\n",
    "    return z"
   ]
  },
  {
   "cell_type": "code",
   "execution_count": 10,
   "metadata": {},
   "outputs": [
    {
     "data": {
      "text/plain": [
       "'2019-01-07 16:12:21 -> 2019-01-07 22:05:22'"
      ]
     },
     "metadata": {},
     "output_type": "display_data"
    }
   ],
   "source": [
    "df = pd.read_csv('/tmp/coinbaseGBP.csv', \n",
    "             names=['_dt', 'price', 'size'])\n",
    "\n",
    "df['dt'] = pd.to_datetime(df['_dt'],unit='s')\n",
    "df = df.set_index('dt').drop(columns=['_dt'])\n",
    "\n",
    "df['ret'] = np.log(df.price) - np.log(df.price.shift(1))\n",
    "\n",
    "df = df.tail(TICK_SAMPLE_N)\n",
    "\n",
    "display('{} -> {}'.format(df.index[0], df.index[-1]))\n",
    "\n",
    "rets_z = rolling_zscore(df['ret'], ROLLING_ZSCORE_WINDOW)\n",
    "rets = np.tanh(rets_z/3)"
   ]
  },
  {
   "cell_type": "code",
   "execution_count": 11,
   "metadata": {},
   "outputs": [
    {
     "name": "stderr",
     "output_type": "stream",
     "text": [
      "/home/uluwatu/anaconda3/envs/py36/lib/python3.6/site-packages/seaborn/distributions.py:2551: FutureWarning: `distplot` is a deprecated function and will be removed in a future version. Please adapt your code to use either `displot` (a figure-level function with similar flexibility) or `histplot` (an axes-level function for histograms).\n",
      "  warnings.warn(msg, FutureWarning)\n"
     ]
    },
    {
     "data": {
      "text/plain": [
       "<AxesSubplot:xlabel='ret', ylabel='Density'>"
      ]
     },
     "execution_count": 11,
     "metadata": {},
     "output_type": "execute_result"
    },
    {
     "data": {
      "image/png": "[encoded data removed]",
      "text/plain": [
       "<Figure size 432x288 with 1 Axes>"
      ]
     },
     "metadata": {
      "needs_background": "light"
     },
     "output_type": "display_data"
    }
   ],
   "source": [
    "sns.distplot(rets)"
   ]
  },
  {
   "cell_type": "code",
   "execution_count": 12,
   "metadata": {},
   "outputs": [],
   "source": [
    "import torch.nn as nn\n",
    "\n",
    "class LSTM(nn.Module):\n",
    "    def __init__(self, n_features, n_hidden, seq_len, n_layers=3):\n",
    "        super(LSTM, self).__init__()\n",
    "        \n",
    "        self.n_hidden = n_hidden\n",
    "        self.seq_len = seq_len\n",
    "        self.n_layers = n_layers\n",
    "        \n",
    "        self.lstm = nn.LSTM(\n",
    "            input_size=n_features,\n",
    "            hidden_size=n_hidden,\n",
    "            num_layers=n_layers,\n",
    "            dropout=0.3\n",
    "        )\n",
    "        \n",
    "        self.linear = nn.Linear(in_features=n_hidden, out_features=1)\n",
    "\n",
    "    def reset_hidden_state(self):\n",
    "        self.hidden = (\n",
    "            torch.zeros(self.n_layers, self.seq_len, self.n_hidden).to(dev),\n",
    "            torch.zeros(self.n_layers, self.seq_len, self.n_hidden).to(dev)\n",
    "        )\n",
    "\n",
    "    def forward(self, sequences):\n",
    "        lstm_out, self.hidden = self.lstm(\n",
    "          sequences.view(len(sequences), self.seq_len, -1),\n",
    "          self.hidden\n",
    "        )\n",
    "\n",
    "        last_time_step = lstm_out.view(self.seq_len, len(sequences), self.n_hidden)\n",
    "        y_pred = self.linear(last_time_step)\n",
    "\n",
    "        return torch.tanh(y_pred)"
   ]
  },
  {
   "cell_type": "code",
   "execution_count": 13,
   "metadata": {},
   "outputs": [],
   "source": [
    "def create_sequences(normalised, original, window):\n",
    "    \"\"\"\n",
    "    Returns:\n",
    "        - rolling `window` size from normalised data \n",
    "        - rolling `window` size from original data, shifted to the right by one\n",
    "    \"\"\"\n",
    "    T = len(normalised)\n",
    "    ret = []\n",
    "    ret_plus_1 = []\n",
    "    \n",
    "    normalised = torch.FloatTensor(normalised)\n",
    "    original = torch.FloatTensor(original)\n",
    "    \n",
    "    for i in range(window, T-window):\n",
    "        ret.append(normalised[i:i+window])\n",
    "        ret_plus_1.append(original[i+1:i+window+1])\n",
    "        \n",
    "    return ret, ret_plus_1"
   ]
  },
  {
   "cell_type": "code",
   "execution_count": 14,
   "metadata": {
    "scrolled": false
   },
   "outputs": [
    {
     "data": {
      "text/plain": [
       "1800"
      ]
     },
     "metadata": {},
     "output_type": "display_data"
    },
    {
     "data": {
      "text/plain": [
       "1800"
      ]
     },
     "metadata": {},
     "output_type": "display_data"
    }
   ],
   "source": [
    "normalised_rets, original_rets = create_sequences(rets, df['ret'], NUM_RETURNS)\n",
    "display(len(normalised_rets))\n",
    "display(len(original_rets))"
   ]
  },
  {
   "cell_type": "code",
   "execution_count": 15,
   "metadata": {},
   "outputs": [],
   "source": [
    "normalised_rets = torch.cat(normalised_rets) \\\n",
    "    .view(len(normalised_rets) ,-1, 1) \\\n",
    "    .to(dev)\n",
    "\n",
    "original_rets = torch.cat(original_rets) \\\n",
    "    .view(len(original_rets) ,-1, 1) \\\n",
    "    .to(dev)"
   ]
  },
  {
   "cell_type": "code",
   "execution_count": 16,
   "metadata": {},
   "outputs": [],
   "source": [
    "model = LSTM(n_features=1, n_hidden=3, seq_len=NUM_RETURNS).cuda()\n",
    "optimizer = torch.optim.Adam(model.parameters(), lr=0.01)"
   ]
  },
  {
   "cell_type": "code",
   "execution_count": 17,
   "metadata": {},
   "outputs": [],
   "source": [
    "def returns(Ft, r, delta=0.02):\n",
    "    T = len(r)\n",
    "    \n",
    "    returns = Ft.view(T, -1) * r.view(T, -1)\n",
    "    \n",
    "    fees = Ft.view(T, -1)[:,1:] - Ft.view(T, -1)[:,:-1]*delta\n",
    "    fees = fees.abs()\n",
    "    fees = torch.cat((torch.zeros(T, 1).to(dev), fees), -1)\n",
    "    \n",
    "    realised_returns = returns - fees\n",
    "    return realised_returns\n",
    "\n",
    "def neg_sharpe(r):\n",
    "    sharpe_ratios = r.mean(dim=1) / r.std(dim=1)\n",
    "    return sharpe_ratios.mean() * -1\n",
    "\n",
    "def loss(positions, rets):\n",
    "    realised_returns = returns(positions, rets)\n",
    "    return neg_sharpe(realised_returns)"
   ]
  },
  {
   "cell_type": "code",
   "execution_count": 18,
   "metadata": {},
   "outputs": [
    {
     "name": "stderr",
     "output_type": "stream",
     "text": [
      "INFO:root:tensor(7.1846, device='cuda:0', grad_fn=<MulBackward0>)\n",
      "INFO:root:tensor(0.8699, device='cuda:0', grad_fn=<MulBackward0>)\n",
      "INFO:root:tensor(0.6775, device='cuda:0', grad_fn=<MulBackward0>)\n",
      "INFO:root:tensor(0.6891, device='cuda:0', grad_fn=<MulBackward0>)\n",
      "INFO:root:tensor(0.6699, device='cuda:0', grad_fn=<MulBackward0>)\n",
      "INFO:root:tensor(0.6678, device='cuda:0', grad_fn=<MulBackward0>)\n",
      "INFO:root:tensor(0.6619, device='cuda:0', grad_fn=<MulBackward0>)\n",
      "INFO:root:tensor(0.5214, device='cuda:0', grad_fn=<MulBackward0>)\n",
      "INFO:root:tensor(0.2822, device='cuda:0', grad_fn=<MulBackward0>)\n",
      "INFO:root:tensor(0.2739, device='cuda:0', grad_fn=<MulBackward0>)\n",
      "INFO:root:tensor(0.2786, device='cuda:0', grad_fn=<MulBackward0>)\n",
      "INFO:root:tensor(0.2917, device='cuda:0', grad_fn=<MulBackward0>)\n",
      "INFO:root:tensor(0.2966, device='cuda:0', grad_fn=<MulBackward0>)\n",
      "INFO:root:tensor(0.2689, device='cuda:0', grad_fn=<MulBackward0>)\n",
      "INFO:root:tensor(0.2700, device='cuda:0', grad_fn=<MulBackward0>)\n",
      "INFO:root:tensor(0.2661, device='cuda:0', grad_fn=<MulBackward0>)\n"
     ]
    }
   ],
   "source": [
    "epochs = 1600\n",
    "loss_history = []\n",
    "\n",
    "for i in range(epochs):\n",
    "    \n",
    "    model.reset_hidden_state()\n",
    "    \n",
    "    y_pred = model(normalised_rets)\n",
    "    \n",
    "    _loss = loss(y_pred, original_rets)\n",
    "    loss_history.append(_loss.item())\n",
    "    \n",
    "    if i % 100 == 0:\n",
    "        logging.info(_loss)\n",
    "    \n",
    "    optimizer.zero_grad()\n",
    "    _loss.backward()\n",
    "    optimizer.step()"
   ]
  },
  {
   "cell_type": "code",
   "execution_count": 19,
   "metadata": {},
   "outputs": [
    {
     "name": "stderr",
     "output_type": "stream",
     "text": [
      "/home/uluwatu/anaconda3/envs/py36/lib/python3.6/site-packages/seaborn/_decorators.py:43: FutureWarning: Pass the following variables as keyword args: x, y. From version 0.12, the only valid positional argument will be `data`, and passing other arguments without an explicit keyword will result in an error or misinterpretation.\n",
      "  FutureWarning\n"
     ]
    },
    {
     "data": {
      "text/plain": [
       "<AxesSubplot:>"
      ]
     },
     "execution_count": 19,
     "metadata": {},
     "output_type": "execute_result"
    },
    {
     "data": {
      "image/png": "[encoded data removed]",
      "text/plain": [
       "<Figure size 432x288 with 1 Axes>"
      ]
     },
     "metadata": {
      "needs_background": "light"
     },
     "output_type": "display_data"
    }
   ],
   "source": [
    "sns.lineplot(range(0, len(loss_history)), np.array(loss_history)*-1)"
   ]
  },
  {
   "cell_type": "code",
   "execution_count": null,
   "metadata": {},
   "outputs": [],
   "source": []
  }
 ],
 "metadata": {
  "kernelspec": {
   "display_name": "py36",
   "language": "python",
   "name": "py36"
  },
  "language_info": {
   "codemirror_mode": {
    "name": "ipython",
    "version": 3
   },
   "file_extension": ".py",
   "mimetype": "text/x-python",
   "name": "python",
   "nbconvert_exporter": "python",
   "pygments_lexer": "ipython3",
   "version": "3.6.12"
  }
 },
 "nbformat": 4,
 "nbformat_minor": 4
}
