{
 "cells": [
  {
   "cell_type": "code",
   "execution_count": 1,
   "metadata": {},
   "outputs": [],
   "source": [
    "import pandas as pd\n",
    "import numpy as np"
   ]
  },
  {
   "cell_type": "code",
   "execution_count": 2,
   "metadata": {},
   "outputs": [],
   "source": [
    "import sympy as sp"
   ]
  },
  {
   "cell_type": "code",
   "execution_count": 3,
   "metadata": {},
   "outputs": [],
   "source": [
    "import seaborn as sns"
   ]
  },
  {
   "cell_type": "code",
   "execution_count": 4,
   "metadata": {},
   "outputs": [],
   "source": [
    "from scipy import stats"
   ]
  },
  {
   "cell_type": "code",
   "execution_count": 5,
   "metadata": {},
   "outputs": [],
   "source": [
    "from numba import jit"
   ]
  },
  {
   "cell_type": "markdown",
   "metadata": {},
   "source": [
    "# Overview"
   ]
  },
  {
   "cell_type": "markdown",
   "metadata": {},
   "source": [
    "Given a trading system model $F_{t}(\\theta)$, the goal is to adjust the parameters $\\theta$ in order to maximise $U_{t}$ (wealth)."
   ]
  },
  {
   "cell_type": "markdown",
   "metadata": {},
   "source": [
    "# $$ \\frac{dU_{T}(\\theta)}{d\\theta} = \n",
    "\\sum \\limits _{t=1} ^ {T} \n",
    "\\frac{dU_{T}}{dR_{t}} \n",
    "\\{ \\frac{dR_{t}}{dF_{t}} \\frac{dF_{t}}{d\\theta} + \\frac{dR_{t}}{dF_{t-1}} \\frac{dF_{t-1}}{d\\theta}  \\}$$"
   ]
  },
  {
   "cell_type": "markdown",
   "metadata": {},
   "source": [
    "Where:\n",
    "* $U$ = wealth function (Sharpe ratio / Sterling ratio)\n",
    "* $R_{t}$ = realised returns \n",
    "* $r_{t}$ = asset returns\n",
    "* $F_{t}$ = position  \n",
    "* $\\theta$ = model weights\n",
    "* $\\delta$ = transaction costs\n",
    "* $\\mu$ = max position (multiplied by $F_{t}$ which goes from -1 to 1)"
   ]
  },
  {
   "cell_type": "markdown",
   "metadata": {},
   "source": [
    "#### References\n",
    "\n",
    "* J. Moody and M. Saffell, \"Learning to trade via direct reinforcement,\" in IEEE Transactions on Neural Networks, vol. 12, no. 4, pp. 875-889, July 2001, doi: 10.1109/72.935097.\n",
    "\n",
    "* https://teddykoker.com/2019/06/trading-with-reinforcement-learning-in-python-part-ii-application/\n",
    "* http://cs229.stanford.edu/proj2006/Molina-StockTradingWithRecurrentReinforcementLearning.pdf"
   ]
  },
  {
   "cell_type": "markdown",
   "metadata": {},
   "source": [
    "#### Load derivative functions from standalone notebook"
   ]
  },
  {
   "cell_type": "code",
   "execution_count": 6,
   "metadata": {},
   "outputs": [],
   "source": [
    "%run 3_reinforcement_trading_offline_simple_derivs.ipynb"
   ]
  },
  {
   "cell_type": "markdown",
   "metadata": {},
   "source": [
    "-----"
   ]
  },
  {
   "cell_type": "code",
   "execution_count": 7,
   "metadata": {},
   "outputs": [],
   "source": [
    "NUM_RETURNS = M = 8"
   ]
  },
  {
   "cell_type": "markdown",
   "metadata": {},
   "source": [
    "## Calculate positions based on $tanh(\\theta \\cdot state)$"
   ]
  },
  {
   "cell_type": "markdown",
   "metadata": {},
   "source": [
    "State takes the form: $[1, R_{t}, R_{t-1}, ..., R_{t-M}, F_{t-1}]$ "
   ]
  },
  {
   "cell_type": "code",
   "execution_count": 8,
   "metadata": {},
   "outputs": [],
   "source": [
    "def positions(r, theta):\n",
    "    '''\n",
    "    Apply weights to state to determine positisons\n",
    "    '''\n",
    "    \n",
    "    T = len(r)\n",
    "    Ft = np.zeros(T)\n",
    "    for t in range(M, T):\n",
    "        state = np.concatenate([ [1], r[t - M:t], [Ft[t-1]] ])\n",
    "        Ft[t] = np.tanh(np.dot(theta, state))\n",
    "        \n",
    "    return Ft"
   ]
  },
  {
   "cell_type": "markdown",
   "metadata": {},
   "source": [
    "#### TODO: returns are based on zscores, fees are absolute"
   ]
  },
  {
   "cell_type": "code",
   "execution_count": 9,
   "metadata": {},
   "outputs": [],
   "source": [
    "def returns(Ft, r, delta):\n",
    "    '''\n",
    "    Calculate realised returns based on positions and fees\n",
    "    '''\n",
    "    T = len(r)\n",
    "    R = (Ft[0:T-1] * r[1:T]) - delta * (np.abs(Ft[1:T] - Ft[0:T-1]))\n",
    "    return np.concatenate((np.array([0]), R))"
   ]
  },
  {
   "cell_type": "markdown",
   "metadata": {},
   "source": [
    "-----"
   ]
  },
  {
   "cell_type": "code",
   "execution_count": 21,
   "metadata": {},
   "outputs": [],
   "source": [
    "def gradient(rets, theta, delta, moving_avg_n):\n",
    "    Ft = positions(rets, theta) \n",
    "    R = returns(Ft, rets, delta) \n",
    "   \n",
    "    # I don't think i need to calc this for all time here, \n",
    "    # just N where n = (1/N)\n",
    "    A = get_A(R, moving_avg_n)\n",
    "    DD2 = get_DD2(R, moving_avg_n)\n",
    "    \n",
    "    return _gradient(rets, theta, R, Ft, A, DD2, delta), DDR(R[:-1], R[:1])\n",
    "    \n",
    "def _gradient(rets, theta, R, Ft, A, DD2, delta):\n",
    "    T = len(rets)\n",
    "    grad = np.zeros(M + 2)\n",
    "    dFtdTheta_prev = np.zeros(M + 2)\n",
    "    \n",
    "    for t in range(M, T):\n",
    "        state = np.concatenate( (np.array([1]), rets[t - M:t], np.array([Ft[t-1]]) ))\n",
    "        \n",
    "        # Derivative functions are defined in 3_reinforcement_trading_simple_derivs.ipynb\n",
    "        dRdFt = get_dRdFt(delta, Ft, t)\n",
    "\n",
    "        dFtdTheta = get_dFtdTheta(Ft, t, state, theta, dFtdTheta_prev)\n",
    "        \n",
    "        dRdFtp = get_dRdFtp(rets, delta, Ft, t)\n",
    "\n",
    "        dUdR = ddr_auto(R[min(t-25, 0):t], R[t])#get_dUdR(A, t, R, DD2)\n",
    "        \n",
    "        inner = ((dRdFt*dFtdTheta) + (dRdFtp*dFtdTheta_prev))\n",
    "\n",
    "        grad_delta = dUdR * inner\n",
    "        grad = grad + np.nan_to_num(grad_delta)\n",
    "        \n",
    "        dFtdTheta_prev = dFtdTheta\n",
    "  \n",
    "    return grad"
   ]
  },
  {
   "cell_type": "markdown",
   "metadata": {},
   "source": [
    "## Main"
   ]
  },
  {
   "cell_type": "code",
   "execution_count": 22,
   "metadata": {},
   "outputs": [],
   "source": [
    "epochs = 250\n",
    "tick_sample_n = 700\n",
    "lr = 0.05\n",
    "best_weights = np.zeros(M+2)\n",
    "delta = 0.02\n",
    "\n",
    "moving_avg_n = 1/10"
   ]
  },
  {
   "cell_type": "code",
   "execution_count": 23,
   "metadata": {},
   "outputs": [
    {
     "data": {
      "text/plain": [
       "'2019-01-07 19:57:30 -> 2019-01-07 22:05:22'"
      ]
     },
     "metadata": {},
     "output_type": "display_data"
    }
   ],
   "source": [
    "df = pd.read_csv('~/Downloads/coinbaseGBP.csv', \n",
    "             names=['_dt', 'price', 'size'])\n",
    "\n",
    "df['dt'] = pd.to_datetime(df['_dt'],unit='s')\n",
    "df = df.set_index('dt').drop(columns=['_dt'])\n",
    "\n",
    "df['ret'] = np.log(df.price) - np.log(df.price.shift(1))\n",
    "\n",
    "df = df.tail(tick_sample_n)\n",
    "\n",
    "display('{} -> {}'.format(df.index[0], df.index[-1]))\n",
    "\n",
    "# TODO: Rolling Z-Score\n",
    "rets_z = stats.zscore(df.ret.values)\n",
    "rets = np.tanh(rets_z/3)"
   ]
  },
  {
   "cell_type": "code",
   "execution_count": 24,
   "metadata": {},
   "outputs": [
    {
     "data": {
      "text/plain": [
       "array([ 0.03550669,  0.04026647, -0.14444841, -0.5487993 , -0.32584427,\n",
       "       -0.12545008, -0.12036871,  0.14900055, -0.59143941, -0.1591881 ])"
      ]
     },
     "execution_count": 24,
     "metadata": {},
     "output_type": "execute_result"
    }
   ],
   "source": [
    "def xavier_weights_init(n):\n",
    "    return (np.random.randn(1, n) * np.sqrt(1/(n-1)))[0]\n",
    "\n",
    "theta = xavier_weights_init(M+2)\n",
    "theta"
   ]
  },
  {
   "cell_type": "code",
   "execution_count": 25,
   "metadata": {
    "scrolled": false
   },
   "outputs": [
    {
     "name": "stderr",
     "output_type": "stream",
     "text": [
      "WARNING:absl:No GPU/TPU found, falling back to CPU. (Set TF_CPP_MIN_LOG_LEVEL=0 and rerun for more info.)\n"
     ]
    },
    {
     "name": "stdout",
     "output_type": "stream",
     "text": [
      "loss: -0.0289749838411808\n",
      "loss: 0.09169968217611313\n",
      "loss: 0.15329015254974365\n",
      "loss: 0.1782471239566803\n",
      "loss: 0.19290967285633087\n",
      "loss: 0.18377934396266937\n",
      "loss: 0.19171522557735443\n",
      "loss: 0.17331057786941528\n",
      "loss: 0.16738010942935944\n",
      "loss: 0.1719541698694229\n",
      "loss: 0.1744432896375656\n",
      "loss: 0.17604510486125946\n",
      "loss: 0.1774604469537735\n",
      "loss: 0.17787235975265503\n",
      "loss: 0.1795313060283661\n",
      "loss: 0.18026413023471832\n",
      "loss: 0.17961430549621582\n",
      "loss: 0.18104977905750275\n",
      "loss: 0.18060219287872314\n",
      "loss: 0.1823214590549469\n",
      "loss: 0.18232767283916473\n",
      "loss: 0.1847740262746811\n",
      "loss: 0.1850517988204956\n",
      "loss: 0.18591716885566711\n",
      "loss: 0.18640828132629395\n",
      "CPU times: user 3min 13s, sys: 22.4 s, total: 3min 35s\n",
      "Wall time: 3min 15s\n"
     ]
    }
   ],
   "source": [
    "%%time\n",
    "\n",
    "loss_history = []\n",
    "for i in range(0, epochs):\n",
    "    g, loss = gradient(rets, theta, delta, moving_avg_n)\n",
    "    theta = theta + (lr * g)\n",
    "    \n",
    "    loss_history.append(loss)\n",
    "    if loss == max(loss_history):\n",
    "        best_theta = theta\n",
    "        \n",
    "    if i % 10 == 0:\n",
    "        print('loss: {}'.format(loss))\n",
    "        \n",
    "theta = best_theta"
   ]
  },
  {
   "cell_type": "markdown",
   "metadata": {},
   "source": [
    "### Loss"
   ]
  },
  {
   "cell_type": "code",
   "execution_count": 26,
   "metadata": {},
   "outputs": [],
   "source": [
    "loss_history = [l.item() for l in loss_history]"
   ]
  },
  {
   "cell_type": "code",
   "execution_count": 27,
   "metadata": {},
   "outputs": [
    {
     "name": "stderr",
     "output_type": "stream",
     "text": [
      "/usr/local/anaconda3/envs/py36/lib/python3.6/site-packages/seaborn/_decorators.py:43: FutureWarning: Pass the following variables as keyword args: x, y. From version 0.12, the only valid positional argument will be `data`, and passing other arguments without an explicit keyword will result in an error or misinterpretation.\n",
      "  FutureWarning\n"
     ]
    },
    {
     "data": {
      "text/plain": [
       "<AxesSubplot:>"
      ]
     },
     "execution_count": 27,
     "metadata": {},
     "output_type": "execute_result"
    },
    {
     "data": {
      "image/png": "[encoded data removed]",
      "text/plain": [
       "<Figure size 432x288 with 1 Axes>"
      ]
     },
     "metadata": {
      "needs_background": "light"
     },
     "output_type": "display_data"
    }
   ],
   "source": [
    "sns.lineplot(range(0, len(loss_history)), loss_history)"
   ]
  },
  {
   "cell_type": "markdown",
   "metadata": {},
   "source": [
    "### Returns"
   ]
  },
  {
   "cell_type": "code",
   "execution_count": 28,
   "metadata": {
    "scrolled": true
   },
   "outputs": [
    {
     "data": {
      "text/plain": [
       "<AxesSubplot:>"
      ]
     },
     "execution_count": 28,
     "metadata": {},
     "output_type": "execute_result"
    },
    {
     "data": {
      "image/png": "[encoded data removed]",
      "text/plain": [
       "<Figure size 432x288 with 1 Axes>"
      ]
     },
     "metadata": {
      "needs_background": "light"
     },
     "output_type": "display_data"
    }
   ],
   "source": [
    "Ft = positions(rets, theta)\n",
    "Rt = returns(Ft, rets, delta)\n",
    "\n",
    "# TODO: These are zscores of log returns, convert back to normal returns\n",
    "realised_returns = returns(Ft, rets, delta)\n",
    "pd.Series(realised_returns).cumsum().plot()"
   ]
  },
  {
   "cell_type": "code",
   "execution_count": 29,
   "metadata": {},
   "outputs": [
    {
     "name": "stderr",
     "output_type": "stream",
     "text": [
      "/usr/local/anaconda3/envs/py36/lib/python3.6/site-packages/seaborn/distributions.py:2551: FutureWarning: `distplot` is a deprecated function and will be removed in a future version. Please adapt your code to use either `displot` (a figure-level function with similar flexibility) or `histplot` (an axes-level function for histograms).\n",
      "  warnings.warn(msg, FutureWarning)\n"
     ]
    },
    {
     "data": {
      "text/plain": [
       "<AxesSubplot:ylabel='Density'>"
      ]
     },
     "execution_count": 29,
     "metadata": {},
     "output_type": "execute_result"
    },
    {
     "data": {
      "image/png": "[encoded data removed]",
      "text/plain": [
       "<Figure size 432x288 with 1 Axes>"
      ]
     },
     "metadata": {
      "needs_background": "light"
     },
     "output_type": "display_data"
    }
   ],
   "source": [
    "sns.distplot(realised_returns)"
   ]
  },
  {
   "cell_type": "markdown",
   "metadata": {},
   "source": [
    "### Positions"
   ]
  },
  {
   "cell_type": "code",
   "execution_count": 30,
   "metadata": {},
   "outputs": [
    {
     "name": "stderr",
     "output_type": "stream",
     "text": [
      "/usr/local/anaconda3/envs/py36/lib/python3.6/site-packages/seaborn/distributions.py:2551: FutureWarning: `distplot` is a deprecated function and will be removed in a future version. Please adapt your code to use either `displot` (a figure-level function with similar flexibility) or `histplot` (an axes-level function for histograms).\n",
      "  warnings.warn(msg, FutureWarning)\n"
     ]
    },
    {
     "data": {
      "text/plain": [
       "<AxesSubplot:ylabel='Density'>"
      ]
     },
     "execution_count": 30,
     "metadata": {},
     "output_type": "execute_result"
    },
    {
     "data": {
      "image/png": "[encoded data removed]",
      "text/plain": [
       "<Figure size 432x288 with 1 Axes>"
      ]
     },
     "metadata": {
      "needs_background": "light"
     },
     "output_type": "display_data"
    }
   ],
   "source": [
    "sns.distplot(Ft)"
   ]
  },
  {
   "cell_type": "code",
   "execution_count": null,
   "metadata": {},
   "outputs": [],
   "source": []
  },
  {
   "cell_type": "code",
   "execution_count": null,
   "metadata": {},
   "outputs": [],
   "source": []
  },
  {
   "cell_type": "code",
   "execution_count": null,
   "metadata": {},
   "outputs": [],
   "source": []
  }
 ],
 "metadata": {
  "kernelspec": {
   "display_name": "Python 3",
   "language": "python",
   "name": "python3"
  },
  "language_info": {
   "codemirror_mode": {
    "name": "ipython",
    "version": 3
   },
   "file_extension": ".py",
   "mimetype": "text/x-python",
   "name": "python",
   "nbconvert_exporter": "python",
   "pygments_lexer": "ipython3",
   "version": "3.8.5"
  }
 },
 "nbformat": 4,
 "nbformat_minor": 4
}
